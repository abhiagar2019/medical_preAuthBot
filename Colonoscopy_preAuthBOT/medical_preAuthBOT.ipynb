{
 "cells": [
  {
   "cell_type": "code",
   "execution_count": 19,
   "id": "d5e0dcf6",
   "metadata": {},
   "outputs": [
    {
     "name": "stdout",
     "output_type": "stream",
     "text": [
      "3.11.5 (main, Sep 11 2023, 08:19:27) [Clang 14.0.6 ]\n"
     ]
    }
   ],
   "source": [
    "import sys\n",
    "print(sys.version)"
   ]
  },
  {
   "cell_type": "code",
   "execution_count": 20,
   "id": "cc4679e8",
   "metadata": {},
   "outputs": [
    {
     "name": "stdout",
     "output_type": "stream",
     "text": [
      "Requirement already satisfied: openai in /Users/abhi/anaconda3/lib/python3.11/site-packages (1.6.1)\n",
      "Requirement already satisfied: anyio<5,>=3.5.0 in /Users/abhi/anaconda3/lib/python3.11/site-packages (from openai) (3.5.0)\n",
      "Requirement already satisfied: distro<2,>=1.7.0 in /Users/abhi/anaconda3/lib/python3.11/site-packages (from openai) (1.8.0)\n",
      "Requirement already satisfied: httpx<1,>=0.23.0 in /Users/abhi/anaconda3/lib/python3.11/site-packages (from openai) (0.25.2)\n",
      "Requirement already satisfied: pydantic<3,>=1.9.0 in /Users/abhi/anaconda3/lib/python3.11/site-packages (from openai) (1.10.8)\n",
      "Requirement already satisfied: sniffio in /Users/abhi/anaconda3/lib/python3.11/site-packages (from openai) (1.2.0)\n",
      "Requirement already satisfied: tqdm>4 in /Users/abhi/anaconda3/lib/python3.11/site-packages (from openai) (4.65.0)\n",
      "Requirement already satisfied: typing-extensions<5,>=4.7 in /Users/abhi/anaconda3/lib/python3.11/site-packages (from openai) (4.7.1)\n",
      "Requirement already satisfied: idna>=2.8 in /Users/abhi/anaconda3/lib/python3.11/site-packages (from anyio<5,>=3.5.0->openai) (3.4)\n",
      "Requirement already satisfied: certifi in /Users/abhi/anaconda3/lib/python3.11/site-packages (from httpx<1,>=0.23.0->openai) (2023.7.22)\n",
      "Requirement already satisfied: httpcore==1.* in /Users/abhi/anaconda3/lib/python3.11/site-packages (from httpx<1,>=0.23.0->openai) (1.0.2)\n",
      "Requirement already satisfied: h11<0.15,>=0.13 in /Users/abhi/anaconda3/lib/python3.11/site-packages (from httpcore==1.*->httpx<1,>=0.23.0->openai) (0.14.0)\n",
      "Note: you may need to restart the kernel to use updated packages.\n"
     ]
    }
   ],
   "source": [
    "pip install openai"
   ]
  },
  {
   "cell_type": "code",
   "execution_count": 1,
   "id": "4bf6d625",
   "metadata": {},
   "outputs": [
    {
     "name": "stdout",
     "output_type": "stream",
     "text": [
      "Requirement already satisfied: openai in /Users/abhi/anaconda3/lib/python3.11/site-packages (1.6.1)\n",
      "Collecting openai\n",
      "  Downloading openai-1.7.0-py3-none-any.whl.metadata (17 kB)\n",
      "Requirement already satisfied: anyio<5,>=3.5.0 in /Users/abhi/anaconda3/lib/python3.11/site-packages (from openai) (3.5.0)\n",
      "Requirement already satisfied: distro<2,>=1.7.0 in /Users/abhi/anaconda3/lib/python3.11/site-packages (from openai) (1.8.0)\n",
      "Requirement already satisfied: httpx<1,>=0.23.0 in /Users/abhi/anaconda3/lib/python3.11/site-packages (from openai) (0.25.2)\n",
      "Requirement already satisfied: pydantic<3,>=1.9.0 in /Users/abhi/anaconda3/lib/python3.11/site-packages (from openai) (1.10.8)\n",
      "Requirement already satisfied: sniffio in /Users/abhi/anaconda3/lib/python3.11/site-packages (from openai) (1.2.0)\n",
      "Requirement already satisfied: tqdm>4 in /Users/abhi/anaconda3/lib/python3.11/site-packages (from openai) (4.65.0)\n",
      "Requirement already satisfied: typing-extensions<5,>=4.7 in /Users/abhi/anaconda3/lib/python3.11/site-packages (from openai) (4.9.0)\n",
      "Requirement already satisfied: idna>=2.8 in /Users/abhi/anaconda3/lib/python3.11/site-packages (from anyio<5,>=3.5.0->openai) (3.4)\n",
      "Requirement already satisfied: certifi in /Users/abhi/anaconda3/lib/python3.11/site-packages (from httpx<1,>=0.23.0->openai) (2023.7.22)\n",
      "Requirement already satisfied: httpcore==1.* in /Users/abhi/anaconda3/lib/python3.11/site-packages (from httpx<1,>=0.23.0->openai) (1.0.2)\n",
      "Requirement already satisfied: h11<0.15,>=0.13 in /Users/abhi/anaconda3/lib/python3.11/site-packages (from httpcore==1.*->httpx<1,>=0.23.0->openai) (0.14.0)\n",
      "Downloading openai-1.7.0-py3-none-any.whl (224 kB)\n",
      "\u001b[2K   \u001b[90m━━━━━━━━━━━━━━━━━━━━━━━━━━━━━━━━━━━━━━━━\u001b[0m \u001b[32m224.7/224.7 kB\u001b[0m \u001b[31m2.5 MB/s\u001b[0m eta \u001b[36m0:00:00\u001b[0ma \u001b[36m0:00:01\u001b[0m\n",
      "\u001b[?25hInstalling collected packages: openai\n",
      "  Attempting uninstall: openai\n",
      "    Found existing installation: openai 1.6.1\n",
      "    Uninstalling openai-1.6.1:\n",
      "      Successfully uninstalled openai-1.6.1\n",
      "Successfully installed openai-1.7.0\n",
      "Note: you may need to restart the kernel to use updated packages.\n"
     ]
    }
   ],
   "source": [
    "pip install openai --upgrade"
   ]
  },
  {
   "cell_type": "code",
   "execution_count": 2,
   "id": "1b940cd2",
   "metadata": {},
   "outputs": [
    {
     "name": "stdout",
     "output_type": "stream",
     "text": [
      "Requirement already satisfied: ipywidgets in /Users/abhi/anaconda3/lib/python3.11/site-packages (8.0.4)\n",
      "Requirement already satisfied: ipykernel>=4.5.1 in /Users/abhi/anaconda3/lib/python3.11/site-packages (from ipywidgets) (6.25.0)\n",
      "Requirement already satisfied: ipython>=6.1.0 in /Users/abhi/anaconda3/lib/python3.11/site-packages (from ipywidgets) (8.15.0)\n",
      "Requirement already satisfied: traitlets>=4.3.1 in /Users/abhi/anaconda3/lib/python3.11/site-packages (from ipywidgets) (5.7.1)\n",
      "Requirement already satisfied: widgetsnbextension~=4.0 in /Users/abhi/anaconda3/lib/python3.11/site-packages (from ipywidgets) (4.0.5)\n",
      "Requirement already satisfied: jupyterlab-widgets~=3.0 in /Users/abhi/anaconda3/lib/python3.11/site-packages (from ipywidgets) (3.0.5)\n",
      "Requirement already satisfied: appnope in /Users/abhi/anaconda3/lib/python3.11/site-packages (from ipykernel>=4.5.1->ipywidgets) (0.1.2)\n",
      "Requirement already satisfied: comm>=0.1.1 in /Users/abhi/anaconda3/lib/python3.11/site-packages (from ipykernel>=4.5.1->ipywidgets) (0.1.2)\n",
      "Requirement already satisfied: debugpy>=1.6.5 in /Users/abhi/anaconda3/lib/python3.11/site-packages (from ipykernel>=4.5.1->ipywidgets) (1.6.7)\n",
      "Requirement already satisfied: jupyter-client>=6.1.12 in /Users/abhi/anaconda3/lib/python3.11/site-packages (from ipykernel>=4.5.1->ipywidgets) (7.4.9)\n",
      "Requirement already satisfied: jupyter-core!=5.0.*,>=4.12 in /Users/abhi/anaconda3/lib/python3.11/site-packages (from ipykernel>=4.5.1->ipywidgets) (5.3.0)\n",
      "Requirement already satisfied: matplotlib-inline>=0.1 in /Users/abhi/anaconda3/lib/python3.11/site-packages (from ipykernel>=4.5.1->ipywidgets) (0.1.6)\n",
      "Requirement already satisfied: nest-asyncio in /Users/abhi/anaconda3/lib/python3.11/site-packages (from ipykernel>=4.5.1->ipywidgets) (1.5.8)\n",
      "Requirement already satisfied: packaging in /Users/abhi/anaconda3/lib/python3.11/site-packages (from ipykernel>=4.5.1->ipywidgets) (23.2)\n",
      "Requirement already satisfied: psutil in /Users/abhi/anaconda3/lib/python3.11/site-packages (from ipykernel>=4.5.1->ipywidgets) (5.9.0)\n",
      "Requirement already satisfied: pyzmq>=20 in /Users/abhi/anaconda3/lib/python3.11/site-packages (from ipykernel>=4.5.1->ipywidgets) (23.2.0)\n",
      "Requirement already satisfied: tornado>=6.1 in /Users/abhi/anaconda3/lib/python3.11/site-packages (from ipykernel>=4.5.1->ipywidgets) (6.3.2)\n",
      "Requirement already satisfied: backcall in /Users/abhi/anaconda3/lib/python3.11/site-packages (from ipython>=6.1.0->ipywidgets) (0.2.0)\n",
      "Requirement already satisfied: decorator in /Users/abhi/anaconda3/lib/python3.11/site-packages (from ipython>=6.1.0->ipywidgets) (5.1.1)\n",
      "Requirement already satisfied: jedi>=0.16 in /Users/abhi/anaconda3/lib/python3.11/site-packages (from ipython>=6.1.0->ipywidgets) (0.18.1)\n",
      "Requirement already satisfied: pickleshare in /Users/abhi/anaconda3/lib/python3.11/site-packages (from ipython>=6.1.0->ipywidgets) (0.7.5)\n",
      "Requirement already satisfied: prompt-toolkit!=3.0.37,<3.1.0,>=3.0.30 in /Users/abhi/anaconda3/lib/python3.11/site-packages (from ipython>=6.1.0->ipywidgets) (3.0.36)\n",
      "Requirement already satisfied: pygments>=2.4.0 in /Users/abhi/anaconda3/lib/python3.11/site-packages (from ipython>=6.1.0->ipywidgets) (2.15.1)\n",
      "Requirement already satisfied: stack-data in /Users/abhi/anaconda3/lib/python3.11/site-packages (from ipython>=6.1.0->ipywidgets) (0.2.0)\n",
      "Requirement already satisfied: pexpect>4.3 in /Users/abhi/anaconda3/lib/python3.11/site-packages (from ipython>=6.1.0->ipywidgets) (4.8.0)\n",
      "Requirement already satisfied: parso<0.9.0,>=0.8.0 in /Users/abhi/anaconda3/lib/python3.11/site-packages (from jedi>=0.16->ipython>=6.1.0->ipywidgets) (0.8.3)\n",
      "Requirement already satisfied: entrypoints in /Users/abhi/anaconda3/lib/python3.11/site-packages (from jupyter-client>=6.1.12->ipykernel>=4.5.1->ipywidgets) (0.4)\n",
      "Requirement already satisfied: python-dateutil>=2.8.2 in /Users/abhi/anaconda3/lib/python3.11/site-packages (from jupyter-client>=6.1.12->ipykernel>=4.5.1->ipywidgets) (2.8.2)\n",
      "Requirement already satisfied: platformdirs>=2.5 in /Users/abhi/anaconda3/lib/python3.11/site-packages (from jupyter-core!=5.0.*,>=4.12->ipykernel>=4.5.1->ipywidgets) (3.10.0)\n",
      "Requirement already satisfied: ptyprocess>=0.5 in /Users/abhi/anaconda3/lib/python3.11/site-packages (from pexpect>4.3->ipython>=6.1.0->ipywidgets) (0.7.0)\n",
      "Requirement already satisfied: wcwidth in /Users/abhi/anaconda3/lib/python3.11/site-packages (from prompt-toolkit!=3.0.37,<3.1.0,>=3.0.30->ipython>=6.1.0->ipywidgets) (0.2.5)\n",
      "Requirement already satisfied: executing in /Users/abhi/anaconda3/lib/python3.11/site-packages (from stack-data->ipython>=6.1.0->ipywidgets) (0.8.3)\n",
      "Requirement already satisfied: asttokens in /Users/abhi/anaconda3/lib/python3.11/site-packages (from stack-data->ipython>=6.1.0->ipywidgets) (2.0.5)\n",
      "Requirement already satisfied: pure-eval in /Users/abhi/anaconda3/lib/python3.11/site-packages (from stack-data->ipython>=6.1.0->ipywidgets) (0.2.2)\n",
      "Requirement already satisfied: six>=1.5 in /Users/abhi/anaconda3/lib/python3.11/site-packages (from python-dateutil>=2.8.2->jupyter-client>=6.1.12->ipykernel>=4.5.1->ipywidgets) (1.16.0)\n",
      "Note: you may need to restart the kernel to use updated packages.\n"
     ]
    }
   ],
   "source": [
    "pip install ipywidgets"
   ]
  },
  {
   "cell_type": "markdown",
   "id": "2316778f",
   "metadata": {},
   "source": [
    "### Provide your OpenAI API key. Hardcode it if not saved in the system enviroment, then "
   ]
  },
  {
   "cell_type": "code",
   "execution_count": 124,
   "id": "14156bcb",
   "metadata": {},
   "outputs": [],
   "source": [
    "from openai import OpenAI\n",
    "import os\n",
    "\n",
    "api_key = os.environ[\"openai_api_key\"]     #  paid api\n",
    "#api_key = \"paste your openai_api_key here\" "
   ]
  },
  {
   "cell_type": "code",
   "execution_count": 59,
   "id": "1f1cf981",
   "metadata": {},
   "outputs": [],
   "source": [
    "client = OpenAI(api_key=api_key) "
   ]
  },
  {
   "cell_type": "markdown",
   "id": "dfea8b2d",
   "metadata": {},
   "source": [
    "### Loading instructions document"
   ]
  },
  {
   "cell_type": "markdown",
   "id": "ccc207d1",
   "metadata": {},
   "source": [
    "#### These are the instructions for the LLM to follow (such as what to display, use only the presented infomation to make decision, what to do incase of missing information, chain of thoughts to show how it arived at the results and end with a conclusion in less than 40 words)"
   ]
  },
  {
   "cell_type": "code",
   "execution_count": 26,
   "id": "066aafa0",
   "metadata": {},
   "outputs": [],
   "source": [
    "instruction_file = client.files.create(\n",
    "    file=open(\"instructions/instructions.docx\", 'rb'),\n",
    "    purpose=\"assistants\"\n",
    "\n",
    ")"
   ]
  },
  {
   "cell_type": "code",
   "execution_count": 27,
   "id": "f1cd0253",
   "metadata": {},
   "outputs": [
    {
     "name": "stdout",
     "output_type": "stream",
     "text": [
      "FileObject(id='file-rju80R44NNvsu85WQ7BHnXqF', bytes=15539, created_at=1704794568, filename='instructions.docx', object='file', purpose='assistants', status='processed', status_details=None)\n"
     ]
    }
   ],
   "source": [
    "print(instruction_file)"
   ]
  },
  {
   "cell_type": "markdown",
   "id": "91de43f5",
   "metadata": {},
   "source": [
    "### Loading Guidelines document"
   ]
  },
  {
   "cell_type": "code",
   "execution_count": 86,
   "id": "db84282a",
   "metadata": {},
   "outputs": [],
   "source": [
    "guidelines_file  =  client.files.create(\n",
    "    file=open(\"instructions/colonoscopy-guidelines.pdf\", 'rb'),\n",
    "    purpose=\"assistants\"\n",
    "\n",
    ")"
   ]
  },
  {
   "cell_type": "code",
   "execution_count": 87,
   "id": "4a8f3b1f",
   "metadata": {},
   "outputs": [
    {
     "name": "stdout",
     "output_type": "stream",
     "text": [
      "FileObject(id='file-uvLfXb29jJFNXttz7JGoLzYD', bytes=42393, created_at=1704811629, filename='colonoscopy-guidelines.pdf', object='file', purpose='assistants', status='processed', status_details=None)\n"
     ]
    }
   ],
   "source": [
    "print(guidelines_file)"
   ]
  },
  {
   "cell_type": "markdown",
   "id": "2d19bbc0",
   "metadata": {},
   "source": [
    "### Loading Patient's medical record document"
   ]
  },
  {
   "cell_type": "markdown",
   "id": "b97ebbb5",
   "metadata": {},
   "source": [
    "#### Load the appropriate medical record through the popup"
   ]
  },
  {
   "cell_type": "code",
   "execution_count": 126,
   "id": "34ac923b",
   "metadata": {},
   "outputs": [
    {
     "name": "stdout",
     "output_type": "stream",
     "text": [
      "Please select the Patient Medical Record for pre-authorization check: \n",
      "Selected file path: /Users/abhi/Documents/medical-record-3.pdf\n"
     ]
    }
   ],
   "source": [
    "import tkinter as tk\n",
    "from tkinter import filedialog\n",
    "\n",
    "# Function to open file dialog and get file path\n",
    "def upload_file():\n",
    "    #print(\"Welcome to the File Uploader\")\n",
    "    print(\"Please select the Patient Medical Record for pre-authorization check: \")\n",
    "\n",
    "    root = tk.Tk()\n",
    "    root.withdraw()  # Hide the main window\n",
    "    file_path = filedialog.askopenfilename()\n",
    "    if file_path:  # Check if a file was selected\n",
    "        print(\"Selected file path:\", file_path)    \n",
    "    else:\n",
    "        print(\"No file was selected.\")\n",
    "    root.destroy()\n",
    "    \n",
    "    return file_path\n",
    "\n",
    "\n",
    "file_path =upload_file()\n",
    "#file_path"
   ]
  },
  {
   "cell_type": "code",
   "execution_count": 107,
   "id": "69e31f82",
   "metadata": {},
   "outputs": [],
   "source": [
    "patient_file=client.files.create(\n",
    "    file=open(file_path, 'rb'),    #file=open(\"medical-record-1.pdf\", 'rb'),\n",
    "    purpose=\"assistants\"\n",
    "\n",
    ")"
   ]
  },
  {
   "cell_type": "code",
   "execution_count": 108,
   "id": "8db0ad49",
   "metadata": {},
   "outputs": [
    {
     "name": "stdout",
     "output_type": "stream",
     "text": [
      "FileObject(id='file-OyStnTsdv0bsB5oOWESUbFVd', bytes=67330, created_at=1704899282, filename='medical-record-3.pdf', object='file', purpose='assistants', status='processed', status_details=None)\n"
     ]
    }
   ],
   "source": [
    "print(patient_file)"
   ]
  },
  {
   "cell_type": "markdown",
   "id": "380d7b51",
   "metadata": {},
   "source": [
    "### Making OpenAI API call. Using 'gpt-4-1106-preview' model and retrieval tool"
   ]
  },
  {
   "cell_type": "code",
   "execution_count": 109,
   "id": "11d74a30",
   "metadata": {},
   "outputs": [],
   "source": [
    "assistant = client.beta.assistants.create(\n",
    "    name = \"Medical_PreAuthBOT\",\n",
    "    instructions = \"You are an expert medical assistant. Follow the instructions listed here to answer if the requested procedure(s) for the patient should be approved. If not provide details of the additional information that may help in making decision.1.\tPlease use only the information provided to answer. 2.\tYour goal is to approve the requested procedure only when all the required criterias are met.3.\tIngest patient medical record PDF (medical-record-x.pdf) where X is likely a number. 4.\tCreate a timeline of patient’s medical history on complaints, diagnostics, diagnosis, procedures, treatments, medications etc.5.\tExtract all the CPT code(s) from this document which is usually present after the text ‘Requested Procedure’ to identify which procedure(s) have been recommended by the doctor.6.\tDisplay the name of the patient, patient’s date of birth or DOB, calculate the age from the date of birth or DOB and display it. Display MRN if provided. 7.\tIdentify if any conservative treatment has already been attempted from the patient medical record PDFs whether in medical procedures, clinical procedures or notes.8.\tIf a prior conservative treatment has already been attempted and if the treatment was successful or have shown signs of improvements, then present evidence that conservative treatment improved the patient’s condition and disapprove the need for the Requested Procedure stating the reason.9.\tIf the conservative treatment was not found or has failed then mention explicitly that ‘conservative treatment was not found or has failed’, and then look for the criterias present for Colorectal cancer screening, as indicated by 1 or more of the following to identify if the Requested Procedure should be allowed or not. Please state which condition(s) in the guidelines were used to arrive at the answer.a.\tPatient has average-risk or higher, if Age is 45 years or older and No colonoscopy in past 10 yearsb.\tPatient has High risk family history, as indicated by 1 or more of the following:1.\tColorectal cancer diagnosed in one or more first-degree relatives of any age and Age 40 years or older and Symptomatic (eg, abdominal pain, iron deficiency anemia, rectal bleeding)2.\tFamily member with colonic adenomatous polyposis of unknown etiologyc.\tJuvenile polyposis syndrome diagnosis indicated by 1 or more of the following:1.\tAge 12 years or older and symptomatic (eg, abdominal pain, iron deficiency anemia, rectal bleeding, telangiectasia)2.\tAge younger than 12 years and symptomatic (eg, abdominal pain, iron deficiency anemia, rectal bleeding, telangiectasia)10.\tAt any point if you don’t know the answer, just say ‘I cannot arrive at the conclusion. Please provide additional information’. Do not hallucinate or provide incorrect or incomplete information. Please request specific information that could be helpful in making a decision.11.\tWalk me through the process with chain-of-thoughts on how you arrived at the conclusion. 12.\tAt the end, after two blank line, summarise the final conclusion with the title ‘Conclusion:’ in less than 40 words if the requested procedure should be approved or not. Provide the reason why it should be approved or not approved. In case of indecision, specify what further information would be required to decide.\",\n",
    "    tools = [{\"type\":\"retrieval\"}],\n",
    "    model = \"gpt-4-1106-preview\",\n",
    "    file_ids = [patient_file.id] # In this version I have copy pasted the guidelines into the instructions \n",
    "    # I used retireval by uploading guidelines in an earlier version. \n",
    "    # I have provided the results as screenshot in the word document emailed\n",
    ")\n",
    "\n",
    "#assistant"
   ]
  },
  {
   "cell_type": "code",
   "execution_count": 111,
   "id": "56ae6982",
   "metadata": {},
   "outputs": [
    {
     "name": "stdout",
     "output_type": "stream",
     "text": [
      "Thread(id='thread_fkYDVLzSLNTb4mBplKomPGvT', created_at=1704899284, metadata={}, object='thread')\n"
     ]
    }
   ],
   "source": [
    "thread = client.beta.threads.create()\n",
    "print(thread)"
   ]
  },
  {
   "cell_type": "code",
   "execution_count": 112,
   "id": "9a6c9e6d",
   "metadata": {},
   "outputs": [],
   "source": [
    "message = client.beta.threads.messages.create(\n",
    "    thread_id = thread.id,\n",
    "    role = \"user\",\n",
    "    content = \"You are a helpful expert medical assistant. Use the information provided to answer.\"\n",
    "\n",
    ")"
   ]
  },
  {
   "cell_type": "code",
   "execution_count": 113,
   "id": "e1b055f1",
   "metadata": {},
   "outputs": [
    {
     "data": {
      "text/plain": [
       "ThreadMessage(id='msg_aQ6xuD4TRQTU8CAF7EqocnO5', assistant_id=None, content=[MessageContentText(text=Text(annotations=[], value='You are a helpful expert medical assistant. Use the information provided to answer.'), type='text')], created_at=1704899284, file_ids=[], metadata={}, object='thread.message', role='user', run_id=None, thread_id='thread_fkYDVLzSLNTb4mBplKomPGvT')"
      ]
     },
     "execution_count": 113,
     "metadata": {},
     "output_type": "execute_result"
    }
   ],
   "source": [
    "message"
   ]
  },
  {
   "cell_type": "code",
   "execution_count": 114,
   "id": "6aa83df2",
   "metadata": {},
   "outputs": [],
   "source": [
    "run = client.beta.threads.runs.create(\n",
    "    thread_id = thread.id,\n",
    "    assistant_id= assistant.id\n",
    "\n",
    ")\n",
    "#run"
   ]
  },
  {
   "cell_type": "markdown",
   "id": "953eedea",
   "metadata": {},
   "source": [
    "### Waiting for run to complete and checking the status"
   ]
  },
  {
   "cell_type": "code",
   "execution_count": 116,
   "id": "7c11c7a6",
   "metadata": {},
   "outputs": [],
   "source": [
    "import time \n",
    "\n",
    "while True:\n",
    "    # Retrieve the run status\n",
    "    run_status = client.beta.threads.runs.retrieve(thread_id=thread.id, run_id=run.id)\n",
    "    time.sleep(10)\n",
    "    \n",
    "    # Check the status of the run\n",
    "    if run_status.status == 'completed':\n",
    "        # If completed, break the loop and process messages\n",
    "        messages = client.beta.threads.messages.list(thread_id=thread.id)\n",
    "        break\n",
    "    elif run_status.status in ['failed', 'error']:\n",
    "        # If the run fails or encounters an error, handle it appropriately\n",
    "        print(f\"Run encountered an error: {run_status.status}\")\n",
    "        break\n",
    "    else:\n",
    "        # If still running, continue to wait\n",
    "        time.sleep(2)\n"
   ]
  },
  {
   "cell_type": "markdown",
   "id": "8e204a07",
   "metadata": {},
   "source": [
    "### If the run completed successfully, prinitng the results, else printing the error message "
   ]
  },
  {
   "cell_type": "code",
   "execution_count": 117,
   "id": "78b20e62",
   "metadata": {},
   "outputs": [
    {
     "name": "stdout",
     "output_type": "stream",
     "text": [
      "user:You are a helpful expert medical assistant. Use the information provided to answer.\n",
      "assistant:Patient Name: Michail Antonio\n",
      "DOB: 01/01/1975\n",
      "MRN: Not provided\n",
      "\n",
      "Age: 48 years old (as of 12/06/2023)\n",
      "\n",
      "Medical History Timeline:\n",
      "- Hypertension diagnosed in 2015, controlled with medication (Lisinopril 10mg daily).\n",
      "- Cholecystectomy performed on 08/15/2018 (CPT 47562).\n",
      "- Colonoscopy performed on 07/22/2020 (CPT 45378), with abnormal findings and pending further treatment.\n",
      "- Since May 2023, the patient has been experiencing persistent upper abdominal pain and heartburn, which worsen post-meal and especially after consuming spicy foods (over-the-counter antacids provide minimal relief).\n",
      "\n",
      "Requested Procedure(s):\n",
      "- CPT 43235\n",
      "- CPT 43239\n",
      "\n",
      "Conservative treatments:\n",
      "- The patient has been taking antacids as needed since June 2023 which have provided minimal relief.\n",
      "\n",
      "Regarding the requested procedures, the diagnostic colonoscopy (CPT 45378) was performed in July 2020, and the history indicated abnormal findings with further treatment pending. To assess the necessity of the new procedures, CPT 43235 (Upper gastrointestinal endoscopy) and CPT 43239 (Esophagogastroduodenoscopy with biopsy), the guidelines for Colorectal cancer screening criteria must be checked. However, these criteria pertain only to colorectal cancer screening.\n",
      "\n",
      "Since the document does not specify that the requested procedures CPT codes 43235 and 43239 are for colorectal cancer screening, but instead, the scope of procedures seems intended to diagnose and assess upper gastrointestinal issues potentially related to the patient's complaints (not solely for colorectal cancer screening), the specific colorectal cancer screening criteria do not apply here. Therefore, it's necessary to view the request in light of the current symptoms and prior unsuccessful conservative treatment with antacids.\n",
      "\n",
      "As of the information provided, conservative treatment was not found or has failed; the patient didn't show improvement with antacids, so we proceed to the assessment for the requested procedures.\n",
      "\n",
      "Conservative treatment was not found or has failed. \"Persistent upper abdominal pain and heartburn since May 2023.\"\n",
      "\n",
      "**However, in order to approve the procedures, we should cross-check the criteria for the requested procedure with the insurance or institutional requirements, which are not provided here. Without those criteria, we cannot conclusively approve the requested procedure.**\n",
      "\n",
      "The assessment here concludes that the conservative treatment with antacids has so far provided minimal relief, suggesting a need for further diagnostics. The previously done colonoscopy in 2020, with no recent follow-up mentioned, implies that the patient may have ongoing gastrointestinal issues beyond the scope of conservative treatment. Therefore, proceeding with upper gastrointestinal endoscopic evaluations appears to be the next logical step in the patient's care based on the symptoms and failure of conservative treatment.\n",
      "\n",
      "However, as additional information such as insurance or institutional criteria for procedure approval is required and not provided, I cannot firmly approve the requested procedures.\n",
      "\n",
      "Conclusion:\n",
      "The requested procedures (CPT 43235 and 43239) correspond to the patient's current unrelieved symptoms; conservative treatment has failed. However, without specific approval criteria, I cannot confirm approval for the requested procedure. Further information on approval criteria is needed.\n"
     ]
    }
   ],
   "source": [
    "if run_status.status in ['failed', 'error']:\n",
    "    print(f\"Run encountered an error: {run_status.status}\")\n",
    "else: \n",
    "    for message in reversed(messages.data):\n",
    "      print(message.role + \":\" + message.content[0].text.value)"
   ]
  },
  {
   "cell_type": "code",
   "execution_count": null,
   "id": "1ac1934e",
   "metadata": {},
   "outputs": [],
   "source": []
  },
  {
   "cell_type": "markdown",
   "id": "b5108c98",
   "metadata": {},
   "source": [
    "## Code ends here. I have saved the output below to demo the results for the 3 Patients"
   ]
  },
  {
   "cell_type": "markdown",
   "id": "b8920a49",
   "metadata": {},
   "source": [
    "### If you run the cells below, it will be over-written with the current patient medical record"
   ]
  },
  {
   "cell_type": "markdown",
   "id": "0c956902",
   "metadata": {},
   "source": [
    "# Patient 1"
   ]
  },
  {
   "cell_type": "code",
   "execution_count": 71,
   "id": "9bb97f82",
   "metadata": {},
   "outputs": [
    {
     "name": "stdout",
     "output_type": "stream",
     "text": [
      "user:You are a helpful expert medical assistant. Use the information provided to answer.\n",
      "assistant:The patient's name is James Freeman 【7†source】. His date of birth is 06/16/1982, which makes him 40 years old as of the current year, 2023 【8†source】. The Medical Record Number (MRN) is 456789123 【7†source】.\n",
      "\n",
      "Creating a timeline of patient’s medical history, we have the following key points:\n",
      "\n",
      "- Complaint: James has occasional rectal bleeding and abdominal discomfort for the past 6 months 【9†source】.\n",
      "  \n",
      "- Family History: His father had colorectal cancer at age 68. \n",
      "\n",
      "- Personal Medical History: Hypertension managed with medication.\n",
      "\n",
      "- Medications: He is on Lisinopril 10mg daily.\n",
      "\n",
      "- Past Treatments: James had an appendectomy in 2015 and a knee arthroscopy in 2018 (CPT codes 44970 and 29881 respectively).\n",
      "\n",
      "- Notes indicate that the patient underwent treatment for abdominal discomfort one year ago without significant improvement. A repeat treatment 6 weeks ago led to noticeable improvement in symptoms. \n",
      "\n",
      "- Clinical Impression: Possible internal hemorrhoids or polyps; colorectal cancer to be ruled out.\n",
      "\n",
      "The requested procedure is a colonoscopy with the CPT code 45378 【10†source】.\n",
      "\n",
      "The guidelines for approving a colorectal cancer screening involve assessing if the patient has an average or higher risk and is over 45 years old without a colonoscopy in the past 10 years, or has a high-risk family history. As James Freeman is 40 years old and has family history of colorectal cancer (his father was diagnosed), and has been experiencing symptoms indicative of colorectal issues (rectal bleeding and abdominal pain), the patient meets the condition of having a high-risk family history.\n",
      "\n",
      "Conservative treatment appears to have been attempted, but it failed to yield significant improvement initially, although the more recent treatment showed noticeable improvement. However, given the family history and ongoing symptoms that can be indicative of a serious condition, a more definitive diagnostic procedure, such as the requested colonoscopy, would be warranted to rule out conditions such as colorectal cancer or significant polyps.\n",
      "\n",
      "Based on this information:\n",
      "\n",
      "- The patient is at a higher risk due to family history of colorectal cancer.\n",
      "- The patient is symptomatic with rectal bleeding and abdominal pain.\n",
      "- There were attempts at conservative treatment, which did not yield significant results initially, but recent treatment showed some improvement.\n",
      "- Given the high risk and ongoing symptoms, a colonoscopy would be the recommended course of action.\n",
      "\n",
      "Therefore, the Requested Procedure should be allowed based on the patient's higher risk due to family history and the symptomatic presentation that warrants further investigation.\n",
      "\n",
      "Conclusion:\n",
      "Approve the Requested Procedure (CPT code 45378) as the patient has high-risk family history and symptomatic presentation warranting investigation for potential colorectal cancer.\n"
     ]
    }
   ],
   "source": [
    "if run_status.status in ['failed', 'error']:\n",
    "    print(f\"Run encountered an error: {run_status.status}\")\n",
    "else: \n",
    "    for message in reversed(messages.data):\n",
    "      print(message.role + \":\" + message.content[0].text.value)"
   ]
  },
  {
   "cell_type": "markdown",
   "id": "3e5ffe22",
   "metadata": {},
   "source": [
    "# Patient 2"
   ]
  },
  {
   "cell_type": "code",
   "execution_count": 92,
   "id": "8dfb5fca",
   "metadata": {},
   "outputs": [
    {
     "name": "stdout",
     "output_type": "stream",
     "text": [
      "user:You are a helpful expert medical assistant. Use the information provided to answer.\n",
      "assistant:Patient Medical History Timeline:\n",
      "- Family History: Father had colorectal cancer at a significantly advanced age.\n",
      "- Personal Medical History: Hypertension managed with medication.\n",
      "- Medications: Lisinopril 10 mg daily and possibly other medications not listed.\n",
      "- Allergies: No known drug allergies.\n",
      "- Presenting Complaint: Occasional rectal bleeding and abdominal discomfort for a few months.\n",
      "- Physical Examination: Tenderness in the lower abdomen.\n",
      "- Diagnostic Tests: Hemoglobin levels low at 12.4 g/dL.\n",
      "- Previous Medical Procedures: Gallbladder removal (CPT Code 47562), physical therapy for lower back pain and abdominal symptoms.\n",
      "- Clinical Impression: Internal hemorrhoids suggested by the patient.\n",
      "- Planned Procedure: Colonoscopy (CPT Code 45378) on 12/15/2023.\n",
      "\n",
      "CPT code extracted from the document is 45378, which relates to the requested procedure of a colonoscopy.\n",
      "\n",
      "Name of the patient: James Maddison\n",
      "DOB: 03/15/1965\n",
      "Age: Calculated age for James Maddison is 58 years old (as of the year 2023).\n",
      "MRN: Not provided.\n",
      "\n",
      "Conservative Treatment:\n",
      "- Previous medical procedures include physical therapy for lower back pain and abdominal symptoms, which could be considered conservative treatment. However, there's no explicit statement whether these treatments were meant for the same symptoms leading to the current colonoscopy or if they were effective.\n",
      "\n",
      "As per the colorectal cancer screening guidelines and the information given on the conservative treatment:\n",
      "- James Maddison's age (58 years) qualifies him for the screening as per standard guidelines for average-risk individuals who should undergo colonoscopy starting at age 45 if no prior colonoscopy was done within the last 10 years.\n",
      "- Family history includes a father with colorectal cancer. However, the advanced age of the father at the time of diagnosis may not necessarily imply a high-risk profile based on family history alone without further details.\n",
      "\n",
      "There is no explicit evidence of conservative treatment success or failure for the symptoms leading to the requested colonoscopy. Given the patient's age and presenting symptoms of rectal bleeding and abdominal discomfort, which can be suggestive of colorectal pathology, the requested colonoscopy procedure would be standard care. No information indicates the patient had a colonoscopy within the past 10 years.\n",
      "\n",
      "Conclusion:\n",
      "Based on the age and symptoms of the patient, the requested procedure Colonoscopy (CPT Code 45378) should be approved as per standard screening guidelines.\n"
     ]
    }
   ],
   "source": [
    "if run_status.status in ['failed', 'error']:\n",
    "    print(f\"Run encountered an error: {run_status.status}\")\n",
    "else: \n",
    "    for message in reversed(messages.data):\n",
    "      print(message.role + \":\" + message.content[0].text.value)"
   ]
  },
  {
   "cell_type": "markdown",
   "id": "9c359b69",
   "metadata": {},
   "source": [
    "# Patient 3"
   ]
  },
  {
   "cell_type": "code",
   "execution_count": 118,
   "id": "c6c4686a",
   "metadata": {},
   "outputs": [
    {
     "name": "stdout",
     "output_type": "stream",
     "text": [
      "user:You are a helpful expert medical assistant. Use the information provided to answer.\n",
      "assistant:Patient Name: Michail Antonio\n",
      "DOB: 01/01/1975\n",
      "MRN: Not provided\n",
      "\n",
      "Age: 48 years old (as of 12/06/2023)\n",
      "\n",
      "Medical History Timeline:\n",
      "- Hypertension diagnosed in 2015, controlled with medication (Lisinopril 10mg daily).\n",
      "- Cholecystectomy performed on 08/15/2018 (CPT 47562).\n",
      "- Colonoscopy performed on 07/22/2020 (CPT 45378), with abnormal findings and pending further treatment.\n",
      "- Since May 2023, the patient has been experiencing persistent upper abdominal pain and heartburn, which worsen post-meal and especially after consuming spicy foods (over-the-counter antacids provide minimal relief).\n",
      "\n",
      "Requested Procedure(s):\n",
      "- CPT 43235\n",
      "- CPT 43239\n",
      "\n",
      "Conservative treatments:\n",
      "- The patient has been taking antacids as needed since June 2023 which have provided minimal relief.\n",
      "\n",
      "Regarding the requested procedures, the diagnostic colonoscopy (CPT 45378) was performed in July 2020, and the history indicated abnormal findings with further treatment pending. To assess the necessity of the new procedures, CPT 43235 (Upper gastrointestinal endoscopy) and CPT 43239 (Esophagogastroduodenoscopy with biopsy), the guidelines for Colorectal cancer screening criteria must be checked. However, these criteria pertain only to colorectal cancer screening.\n",
      "\n",
      "Since the document does not specify that the requested procedures CPT codes 43235 and 43239 are for colorectal cancer screening, but instead, the scope of procedures seems intended to diagnose and assess upper gastrointestinal issues potentially related to the patient's complaints (not solely for colorectal cancer screening), the specific colorectal cancer screening criteria do not apply here. Therefore, it's necessary to view the request in light of the current symptoms and prior unsuccessful conservative treatment with antacids.\n",
      "\n",
      "As of the information provided, conservative treatment was not found or has failed; the patient didn't show improvement with antacids, so we proceed to the assessment for the requested procedures.\n",
      "\n",
      "Conservative treatment was not found or has failed. \"Persistent upper abdominal pain and heartburn since May 2023.\"\n",
      "\n",
      "**However, in order to approve the procedures, we should cross-check the criteria for the requested procedure with the insurance or institutional requirements, which are not provided here. Without those criteria, we cannot conclusively approve the requested procedure.**\n",
      "\n",
      "The assessment here concludes that the conservative treatment with antacids has so far provided minimal relief, suggesting a need for further diagnostics. The previously done colonoscopy in 2020, with no recent follow-up mentioned, implies that the patient may have ongoing gastrointestinal issues beyond the scope of conservative treatment. Therefore, proceeding with upper gastrointestinal endoscopic evaluations appears to be the next logical step in the patient's care based on the symptoms and failure of conservative treatment.\n",
      "\n",
      "However, as additional information such as insurance or institutional criteria for procedure approval is required and not provided, I cannot firmly approve the requested procedures.\n",
      "\n",
      "Conclusion:\n",
      "The requested procedures (CPT 43235 and 43239) correspond to the patient's current unrelieved symptoms; conservative treatment has failed. However, without specific approval criteria, I cannot confirm approval for the requested procedure. Further information on approval criteria is needed.\n"
     ]
    }
   ],
   "source": [
    "if run_status.status in ['failed', 'error']:\n",
    "    print(f\"Run encountered an error: {run_status.status}\")\n",
    "else: \n",
    "    for message in reversed(messages.data):\n",
    "      print(message.role + \":\" + message.content[0].text.value)"
   ]
  },
  {
   "cell_type": "code",
   "execution_count": null,
   "id": "a6b498fb",
   "metadata": {},
   "outputs": [],
   "source": []
  }
 ],
 "metadata": {
  "kernelspec": {
   "display_name": "Python 3 (ipykernel)",
   "language": "python",
   "name": "python3"
  },
  "language_info": {
   "codemirror_mode": {
    "name": "ipython",
    "version": 3
   },
   "file_extension": ".py",
   "mimetype": "text/x-python",
   "name": "python",
   "nbconvert_exporter": "python",
   "pygments_lexer": "ipython3",
   "version": "3.11.5"
  }
 },
 "nbformat": 4,
 "nbformat_minor": 5
}
