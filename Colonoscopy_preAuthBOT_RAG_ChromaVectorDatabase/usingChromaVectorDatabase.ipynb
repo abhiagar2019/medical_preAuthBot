{
 "cells": [
  {
   "cell_type": "markdown",
   "id": "ec889d86-0d16-477f-8b7f-be03d73ad957",
   "metadata": {},
   "source": [
    "# Using embeddings-based retrieval - Chroma Vector Database"
   ]
  },
  {
   "cell_type": "code",
   "execution_count": 1,
   "id": "ea8256d2",
   "metadata": {},
   "outputs": [],
   "source": [
    "import importlib\n",
    "import sys\n"
   ]
  },
  {
   "cell_type": "code",
   "execution_count": 26,
   "id": "5d995a8a",
   "metadata": {},
   "outputs": [
    {
     "name": "stdout",
     "output_type": "stream",
     "text": [
      "huggingface/tokenizers: The current process just got forked, after parallelism has already been used. Disabling parallelism to avoid deadlocks...\n",
      "To disable this warning, you can either:\n",
      "\t- Avoid using `tokenizers` before the fork if possible\n",
      "\t- Explicitly set the environment variable TOKENIZERS_PARALLELISM=(true | false)\n",
      "Requirement already satisfied: pypdf in /Users/abhi/anaconda3/lib/python3.11/site-packages (3.17.4)\n",
      "Note: you may need to restart the kernel to use updated packages.\n"
     ]
    }
   ],
   "source": [
    "pip install pypdf"
   ]
  },
  {
   "cell_type": "code",
   "execution_count": 2,
   "id": "3748b16d-d4a7-49c3-a48a-57dcfc42acd6",
   "metadata": {
    "height": 181
   },
   "outputs": [],
   "source": [
    "from pypdf import PdfReader\n",
    "\n",
    "def extract_pdf_info(pdf_path):\n",
    "    reader = PdfReader(pdf_path) #\"instructions/colonoscopy-guidelines.pdf\")\n",
    "    pdf_texts = [p.extract_text().strip() for p in reader.pages]\n",
    "\n",
    "    # Filter the empty strings\n",
    "    pdf_texts = [text for text in pdf_texts if text]\n",
    "\n",
    "    #pdf_texts[0]\n",
    "    \n",
    "    return pdf_texts[0]"
   ]
  },
  {
   "cell_type": "code",
   "execution_count": 3,
   "id": "7cbc3cf5",
   "metadata": {},
   "outputs": [],
   "source": [
    "# Paths to your PDFs\n",
    "guidelines_pdf_path = 'instructions/colonoscopy-guidelines.pdf'\n",
    "patient_pdf_path = 'medical-record-1.pdf'"
   ]
  },
  {
   "cell_type": "code",
   "execution_count": 4,
   "id": "8a93253c",
   "metadata": {},
   "outputs": [],
   "source": [
    "# Extract text\n",
    "guidelines_text = extract_pdf_info(guidelines_pdf_path)\n",
    "patient_text = extract_pdf_info(patient_pdf_path)"
   ]
  },
  {
   "cell_type": "code",
   "execution_count": 5,
   "id": "e6178d33",
   "metadata": {},
   "outputs": [
    {
     "data": {
      "text/plain": [
       "'For educational purposes only   \\n[45378] Colonoscopy, flexible; diagnostic  • Colorectal cancer screening, as indicated by 1 or more of the following: o Patient has average-risk or higher, as indicated by ALL of the following § Age 45 years or older § No colonoscopy in past 10 years o High risk family history, as indicated by 1 or more of the following: § Colorectal cancer diagnosed in one or more first-degree relatives of any age and ALL of the following: • Age 40 years or older • Symptomatic (eg, abdominal pain, iron deficiency anemia, rectal bleeding) § Family member with colonic adenomatous polyposis of unknown etiology o Juvenile polyposis syndrome diagnosis indicated by 1 or more of the following: § Age 12 years or older and symptomatic (eg, abdominal pain, iron deficiency anemia, rectal bleeding, telangiectasia) § Age younger than 12 years and symptomatic (eg, abdominal pain, iron deficiency anemia, rectal bleeding, telangiectasia)'"
      ]
     },
     "execution_count": 5,
     "metadata": {},
     "output_type": "execute_result"
    }
   ],
   "source": [
    "guidelines_text"
   ]
  },
  {
   "cell_type": "code",
   "execution_count": 6,
   "id": "7e7aeb86",
   "metadata": {},
   "outputs": [
    {
     "data": {
      "text/plain": [
       "'Co:Helm  \\nMEDICAL RECORD Patient Name: James Freeman DOB: 06/16/1982 MRN: 456789123 Sex: Male  PRESENTING COMPLAINT Symptoms: Occasional rectal bleeding and abdominal discomfort for the past 6 months. Duration: 6 months.  PATIENT INFORMATION Name: James Freeman DOB: 06/16/1982 Gender: Male Address: 4521 Maple Avenue, Dallas, Texas 75219 Contact Number: (214) 555-0123 Emergency Contact: Not provided  MEDICAL HISTORY • Family History: Father had colorectal cancer at age 68. • Personal Medical History: Hypertension, managed with medication. • Medications: Lisinopril 10mg daily. • Allergies: No known drug allergies.  ALLERGIES • Allergies not reviewed (last reviewed 11/28/2022) • NKDA'"
      ]
     },
     "execution_count": 6,
     "metadata": {},
     "output_type": "execute_result"
    }
   ],
   "source": [
    "patient_text"
   ]
  },
  {
   "cell_type": "code",
   "execution_count": 7,
   "id": "a338ec83-6301-41a5-9ab1-e5d583306a3f",
   "metadata": {
    "height": 62
   },
   "outputs": [],
   "source": [
    "from langchain.text_splitter import RecursiveCharacterTextSplitter, SentenceTransformersTokenTextSplitter\n"
   ]
  },
  {
   "cell_type": "code",
   "execution_count": 33,
   "id": "4f423df6",
   "metadata": {},
   "outputs": [
    {
     "name": "stdout",
     "output_type": "stream",
     "text": [
      "Collecting sentence-transformers\n",
      "  Downloading sentence-transformers-2.2.2.tar.gz (85 kB)\n",
      "\u001b[2K     \u001b[90m━━━━━━━━━━━━━━━━━━━━━━━━━━━━━━━━━━━━━━━━\u001b[0m \u001b[32m86.0/86.0 kB\u001b[0m \u001b[31m1.3 MB/s\u001b[0m eta \u001b[36m0:00:00\u001b[0ma \u001b[36m0:00:01\u001b[0m\n",
      "\u001b[?25h  Preparing metadata (setup.py) ... \u001b[?25ldone\n",
      "\u001b[?25hRequirement already satisfied: transformers<5.0.0,>=4.6.0 in /Users/abhi/anaconda3/lib/python3.11/site-packages (from sentence-transformers) (4.32.1)\n",
      "Requirement already satisfied: tqdm in /Users/abhi/anaconda3/lib/python3.11/site-packages (from sentence-transformers) (4.65.0)\n",
      "Requirement already satisfied: torch>=1.6.0 in /Users/abhi/anaconda3/lib/python3.11/site-packages (from sentence-transformers) (2.1.1)\n",
      "Collecting torchvision (from sentence-transformers)\n",
      "  Downloading torchvision-0.16.2-cp311-cp311-macosx_10_13_x86_64.whl.metadata (6.6 kB)\n",
      "Requirement already satisfied: numpy in /Users/abhi/anaconda3/lib/python3.11/site-packages (from sentence-transformers) (1.24.3)\n",
      "Requirement already satisfied: scikit-learn in /Users/abhi/anaconda3/lib/python3.11/site-packages (from sentence-transformers) (1.3.0)\n",
      "Requirement already satisfied: scipy in /Users/abhi/anaconda3/lib/python3.11/site-packages (from sentence-transformers) (1.11.1)\n",
      "Requirement already satisfied: nltk in /Users/abhi/anaconda3/lib/python3.11/site-packages (from sentence-transformers) (3.8.1)\n",
      "Collecting sentencepiece (from sentence-transformers)\n",
      "  Downloading sentencepiece-0.1.99-cp311-cp311-macosx_10_9_x86_64.whl (1.2 MB)\n",
      "\u001b[2K     \u001b[90m━━━━━━━━━━━━━━━━━━━━━━━━━━━━━━━━━━━━━━━━\u001b[0m \u001b[32m1.2/1.2 MB\u001b[0m \u001b[31m10.0 MB/s\u001b[0m eta \u001b[36m0:00:00\u001b[0m00:01\u001b[0m00:01\u001b[0m\n",
      "\u001b[?25hRequirement already satisfied: huggingface-hub>=0.4.0 in /Users/abhi/anaconda3/lib/python3.11/site-packages (from sentence-transformers) (0.15.1)\n",
      "Requirement already satisfied: filelock in /Users/abhi/anaconda3/lib/python3.11/site-packages (from huggingface-hub>=0.4.0->sentence-transformers) (3.9.0)\n",
      "Requirement already satisfied: fsspec in /Users/abhi/anaconda3/lib/python3.11/site-packages (from huggingface-hub>=0.4.0->sentence-transformers) (2023.12.2)\n",
      "Requirement already satisfied: requests in /Users/abhi/anaconda3/lib/python3.11/site-packages (from huggingface-hub>=0.4.0->sentence-transformers) (2.31.0)\n",
      "Requirement already satisfied: pyyaml>=5.1 in /Users/abhi/anaconda3/lib/python3.11/site-packages (from huggingface-hub>=0.4.0->sentence-transformers) (6.0)\n",
      "Requirement already satisfied: typing-extensions>=3.7.4.3 in /Users/abhi/anaconda3/lib/python3.11/site-packages (from huggingface-hub>=0.4.0->sentence-transformers) (4.7.1)\n",
      "Requirement already satisfied: packaging>=20.9 in /Users/abhi/anaconda3/lib/python3.11/site-packages (from huggingface-hub>=0.4.0->sentence-transformers) (23.2)\n",
      "Requirement already satisfied: sympy in /Users/abhi/anaconda3/lib/python3.11/site-packages (from torch>=1.6.0->sentence-transformers) (1.11.1)\n",
      "Requirement already satisfied: networkx in /Users/abhi/anaconda3/lib/python3.11/site-packages (from torch>=1.6.0->sentence-transformers) (3.1)\n",
      "Requirement already satisfied: jinja2 in /Users/abhi/anaconda3/lib/python3.11/site-packages (from torch>=1.6.0->sentence-transformers) (3.1.2)\n",
      "Requirement already satisfied: regex!=2019.12.17 in /Users/abhi/anaconda3/lib/python3.11/site-packages (from transformers<5.0.0,>=4.6.0->sentence-transformers) (2022.7.9)\n",
      "Requirement already satisfied: tokenizers!=0.11.3,<0.14,>=0.11.1 in /Users/abhi/anaconda3/lib/python3.11/site-packages (from transformers<5.0.0,>=4.6.0->sentence-transformers) (0.13.2)\n",
      "Requirement already satisfied: safetensors>=0.3.1 in /Users/abhi/anaconda3/lib/python3.11/site-packages (from transformers<5.0.0,>=4.6.0->sentence-transformers) (0.3.2)\n",
      "Requirement already satisfied: click in /Users/abhi/anaconda3/lib/python3.11/site-packages (from nltk->sentence-transformers) (8.0.4)\n",
      "Requirement already satisfied: joblib in /Users/abhi/anaconda3/lib/python3.11/site-packages (from nltk->sentence-transformers) (1.2.0)\n",
      "Requirement already satisfied: threadpoolctl>=2.0.0 in /Users/abhi/anaconda3/lib/python3.11/site-packages (from scikit-learn->sentence-transformers) (2.2.0)\n",
      "Collecting torch>=1.6.0 (from sentence-transformers)\n",
      "  Downloading torch-2.1.2-cp311-none-macosx_10_9_x86_64.whl.metadata (25 kB)\n",
      "Requirement already satisfied: pillow!=8.3.*,>=5.3.0 in /Users/abhi/anaconda3/lib/python3.11/site-packages (from torchvision->sentence-transformers) (10.0.1)\n",
      "Requirement already satisfied: MarkupSafe>=2.0 in /Users/abhi/anaconda3/lib/python3.11/site-packages (from jinja2->torch>=1.6.0->sentence-transformers) (2.1.1)\n",
      "Requirement already satisfied: charset-normalizer<4,>=2 in /Users/abhi/anaconda3/lib/python3.11/site-packages (from requests->huggingface-hub>=0.4.0->sentence-transformers) (2.0.4)\n",
      "Requirement already satisfied: idna<4,>=2.5 in /Users/abhi/anaconda3/lib/python3.11/site-packages (from requests->huggingface-hub>=0.4.0->sentence-transformers) (3.4)\n",
      "Requirement already satisfied: urllib3<3,>=1.21.1 in /Users/abhi/anaconda3/lib/python3.11/site-packages (from requests->huggingface-hub>=0.4.0->sentence-transformers) (1.26.16)\n",
      "Requirement already satisfied: certifi>=2017.4.17 in /Users/abhi/anaconda3/lib/python3.11/site-packages (from requests->huggingface-hub>=0.4.0->sentence-transformers) (2023.7.22)\n",
      "Requirement already satisfied: mpmath>=0.19 in /Users/abhi/anaconda3/lib/python3.11/site-packages (from sympy->torch>=1.6.0->sentence-transformers) (1.3.0)\n",
      "Downloading torchvision-0.16.2-cp311-cp311-macosx_10_13_x86_64.whl (1.6 MB)\n",
      "\u001b[2K   \u001b[90m━━━━━━━━━━━━━━━━━━━━━━━━━━━━━━━━━━━━━━━━\u001b[0m \u001b[32m1.6/1.6 MB\u001b[0m \u001b[31m20.2 MB/s\u001b[0m eta \u001b[36m0:00:00\u001b[0m00:01\u001b[0m00:01\u001b[0m\n",
      "\u001b[?25hDownloading torch-2.1.2-cp311-none-macosx_10_9_x86_64.whl (146.7 MB)\n",
      "\u001b[2K   \u001b[90m━━━━━━━━━━━━━━━━━━━━━━━━━━━━━━━━━━━━━━━━\u001b[0m \u001b[32m146.7/146.7 MB\u001b[0m \u001b[31m6.8 MB/s\u001b[0m eta \u001b[36m0:00:00\u001b[0m:00:01\u001b[0m00:01\u001b[0m\n",
      "\u001b[?25hBuilding wheels for collected packages: sentence-transformers\n",
      "  Building wheel for sentence-transformers (setup.py) ... \u001b[?25ldone\n",
      "\u001b[?25h  Created wheel for sentence-transformers: filename=sentence_transformers-2.2.2-py3-none-any.whl size=125925 sha256=de1d1e50270dd7e26366f96ccea5498dc6b39f5171f87f76d5d9b7667f687d0e\n",
      "  Stored in directory: /Users/abhi/Library/Caches/pip/wheels/ff/27/bf/ffba8b318b02d7f691a57084ee154e26ed24d012b0c7805881\n",
      "Successfully built sentence-transformers\n",
      "Installing collected packages: sentencepiece, torch, torchvision, sentence-transformers\n",
      "  Attempting uninstall: torch\n",
      "    Found existing installation: torch 2.1.1\n",
      "    Uninstalling torch-2.1.1:\n",
      "      Successfully uninstalled torch-2.1.1\n",
      "Successfully installed sentence-transformers-2.2.2 sentencepiece-0.1.99 torch-2.1.2 torchvision-0.16.2\n",
      "Note: you may need to restart the kernel to use updated packages.\n"
     ]
    }
   ],
   "source": [
    "pip install sentence-transformers"
   ]
  },
  {
   "cell_type": "code",
   "execution_count": 11,
   "id": "5665c695-22ea-4264-b1ac-5ba720b6d78b",
   "metadata": {
    "height": 164
   },
   "outputs": [
    {
     "name": "stdout",
     "output_type": "stream",
     "text": [
      "['for educational purposes only [ 45378 ] colonoscopy, flexible ; diagnostic • colorectal cancer screening, as indicated by 1 or more of the following : o patient has average - risk or higher, as indicated by all of the following § age 45 years or older § no colonoscopy in past 10 years o high risk family history, as indicated by 1 or more of the following : § colorectal cancer diagnosed in one or more first - degree relatives of any age and', 'all of the following : • age 40 years or older • symptomatic ( eg, abdominal pain, iron deficiency anemia, rectal bleeding ) § family member with colonic adenomatous polyposis of unknown etiology o juvenile polyposis syndrome diagnosis indicated by 1 or more of the following : § age 12 years or older and symptomatic ( eg, abdominal pain, iron deficiency anemia, rectal bleeding, telangiectasia ) § age', 'younger than 12 years and symptomatic ( eg, abdominal pain, iron deficiency anemia, rectal bleeding, telangiectasia )']\n",
      "\n",
      "Total chunks: 3\n"
     ]
    }
   ],
   "source": [
    "token_splitter = SentenceTransformersTokenTextSplitter(chunk_overlap=0, tokens_per_chunk=100)# max is 384 tokens\n",
    "\n",
    "token_split_texts = []\n",
    "\n",
    "token_split_texts += token_splitter.split_text(guidelines_text)\n",
    "\n",
    "print((token_split_texts))\n",
    "print(f\"\\nTotal chunks: {len(token_split_texts)}\")"
   ]
  },
  {
   "cell_type": "code",
   "execution_count": 12,
   "id": "d06558fe",
   "metadata": {},
   "outputs": [
    {
     "name": "stdout",
     "output_type": "stream",
     "text": [
      "for educational purposes only [ 45378 ] colonoscopy, flexible ; diagnostic • colorectal cancer screening, as indicated by 1 or more of the following : o patient has average - risk or higher, as indicated by all of the following § age 45 years or older § no colonoscopy in past 10 years o high risk family history, as indicated by 1 or more of the following : § colorectal cancer diagnosed in one or more first - degree relatives of any age and\n"
     ]
    }
   ],
   "source": [
    "print((token_split_texts[0]))"
   ]
  },
  {
   "cell_type": "code",
   "execution_count": 13,
   "id": "b2440fac",
   "metadata": {},
   "outputs": [
    {
     "name": "stdout",
     "output_type": "stream",
     "text": [
      "all of the following : • age 40 years or older • symptomatic ( eg, abdominal pain, iron deficiency anemia, rectal bleeding ) § family member with colonic adenomatous polyposis of unknown etiology o juvenile polyposis syndrome diagnosis indicated by 1 or more of the following : § age 12 years or older and symptomatic ( eg, abdominal pain, iron deficiency anemia, rectal bleeding, telangiectasia ) § age\n"
     ]
    }
   ],
   "source": [
    "print((token_split_texts[1]))"
   ]
  },
  {
   "cell_type": "code",
   "execution_count": 14,
   "id": "ea9e0e10",
   "metadata": {},
   "outputs": [
    {
     "name": "stdout",
     "output_type": "stream",
     "text": [
      "younger than 12 years and symptomatic ( eg, abdominal pain, iron deficiency anemia, rectal bleeding, telangiectasia )\n"
     ]
    }
   ],
   "source": [
    "print((token_split_texts[2]))"
   ]
  },
  {
   "cell_type": "code",
   "execution_count": 38,
   "id": "a3d62066",
   "metadata": {},
   "outputs": [
    {
     "name": "stdout",
     "output_type": "stream",
     "text": [
      "huggingface/tokenizers: The current process just got forked, after parallelism has already been used. Disabling parallelism to avoid deadlocks...\n",
      "To disable this warning, you can either:\n",
      "\t- Avoid using `tokenizers` before the fork if possible\n",
      "\t- Explicitly set the environment variable TOKENIZERS_PARALLELISM=(true | false)\n",
      "Requirement already satisfied: chromadb in /Users/abhi/anaconda3/lib/python3.11/site-packages (0.4.22)\n",
      "Requirement already satisfied: build>=1.0.3 in /Users/abhi/anaconda3/lib/python3.11/site-packages (from chromadb) (1.0.3)\n",
      "Requirement already satisfied: requests>=2.28 in /Users/abhi/anaconda3/lib/python3.11/site-packages (from chromadb) (2.31.0)\n",
      "Requirement already satisfied: pydantic>=1.9 in /Users/abhi/anaconda3/lib/python3.11/site-packages (from chromadb) (1.10.8)\n",
      "Requirement already satisfied: chroma-hnswlib==0.7.3 in /Users/abhi/anaconda3/lib/python3.11/site-packages (from chromadb) (0.7.3)\n",
      "Requirement already satisfied: fastapi>=0.95.2 in /Users/abhi/anaconda3/lib/python3.11/site-packages (from chromadb) (0.108.0)\n",
      "Requirement already satisfied: uvicorn>=0.18.3 in /Users/abhi/anaconda3/lib/python3.11/site-packages (from uvicorn[standard]>=0.18.3->chromadb) (0.25.0)\n",
      "Requirement already satisfied: numpy>=1.22.5 in /Users/abhi/anaconda3/lib/python3.11/site-packages (from chromadb) (1.24.3)\n",
      "Requirement already satisfied: posthog>=2.4.0 in /Users/abhi/anaconda3/lib/python3.11/site-packages (from chromadb) (3.1.0)\n",
      "Requirement already satisfied: typing-extensions>=4.5.0 in /Users/abhi/anaconda3/lib/python3.11/site-packages (from chromadb) (4.9.0)\n",
      "Requirement already satisfied: pulsar-client>=3.1.0 in /Users/abhi/anaconda3/lib/python3.11/site-packages (from chromadb) (3.4.0)\n",
      "Requirement already satisfied: onnxruntime>=1.14.1 in /Users/abhi/anaconda3/lib/python3.11/site-packages (from chromadb) (1.16.3)\n",
      "Requirement already satisfied: opentelemetry-api>=1.2.0 in /Users/abhi/anaconda3/lib/python3.11/site-packages (from chromadb) (1.22.0)\n",
      "Requirement already satisfied: opentelemetry-exporter-otlp-proto-grpc>=1.2.0 in /Users/abhi/anaconda3/lib/python3.11/site-packages (from chromadb) (1.22.0)\n",
      "Requirement already satisfied: opentelemetry-instrumentation-fastapi>=0.41b0 in /Users/abhi/anaconda3/lib/python3.11/site-packages (from chromadb) (0.43b0)\n",
      "Requirement already satisfied: opentelemetry-sdk>=1.2.0 in /Users/abhi/anaconda3/lib/python3.11/site-packages (from chromadb) (1.22.0)\n",
      "Requirement already satisfied: tokenizers>=0.13.2 in /Users/abhi/anaconda3/lib/python3.11/site-packages (from chromadb) (0.13.2)\n",
      "Requirement already satisfied: pypika>=0.48.9 in /Users/abhi/anaconda3/lib/python3.11/site-packages (from chromadb) (0.48.9)\n",
      "Requirement already satisfied: tqdm>=4.65.0 in /Users/abhi/anaconda3/lib/python3.11/site-packages (from chromadb) (4.65.0)\n",
      "Requirement already satisfied: overrides>=7.3.1 in /Users/abhi/anaconda3/lib/python3.11/site-packages (from chromadb) (7.4.0)\n",
      "Requirement already satisfied: importlib-resources in /Users/abhi/anaconda3/lib/python3.11/site-packages (from chromadb) (6.1.1)\n",
      "Requirement already satisfied: grpcio>=1.58.0 in /Users/abhi/anaconda3/lib/python3.11/site-packages (from chromadb) (1.60.0)\n",
      "Requirement already satisfied: bcrypt>=4.0.1 in /Users/abhi/anaconda3/lib/python3.11/site-packages (from chromadb) (4.1.2)\n",
      "Requirement already satisfied: typer>=0.9.0 in /Users/abhi/anaconda3/lib/python3.11/site-packages (from chromadb) (0.9.0)\n",
      "Requirement already satisfied: kubernetes>=28.1.0 in /Users/abhi/anaconda3/lib/python3.11/site-packages (from chromadb) (29.0.0)\n",
      "Requirement already satisfied: tenacity>=8.2.3 in /Users/abhi/anaconda3/lib/python3.11/site-packages (from chromadb) (8.2.3)\n",
      "Requirement already satisfied: PyYAML>=6.0.0 in /Users/abhi/anaconda3/lib/python3.11/site-packages (from chromadb) (6.0)\n",
      "Requirement already satisfied: mmh3>=4.0.1 in /Users/abhi/anaconda3/lib/python3.11/site-packages (from chromadb) (4.0.1)\n",
      "Requirement already satisfied: packaging>=19.0 in /Users/abhi/anaconda3/lib/python3.11/site-packages (from build>=1.0.3->chromadb) (23.2)\n",
      "Requirement already satisfied: pyproject_hooks in /Users/abhi/anaconda3/lib/python3.11/site-packages (from build>=1.0.3->chromadb) (1.0.0)\n",
      "Requirement already satisfied: starlette<0.33.0,>=0.29.0 in /Users/abhi/anaconda3/lib/python3.11/site-packages (from fastapi>=0.95.2->chromadb) (0.32.0.post1)\n",
      "Requirement already satisfied: certifi>=14.05.14 in /Users/abhi/anaconda3/lib/python3.11/site-packages (from kubernetes>=28.1.0->chromadb) (2023.7.22)\n",
      "Requirement already satisfied: six>=1.9.0 in /Users/abhi/anaconda3/lib/python3.11/site-packages (from kubernetes>=28.1.0->chromadb) (1.16.0)\n",
      "Requirement already satisfied: python-dateutil>=2.5.3 in /Users/abhi/anaconda3/lib/python3.11/site-packages (from kubernetes>=28.1.0->chromadb) (2.8.2)\n",
      "Requirement already satisfied: google-auth>=1.0.1 in /Users/abhi/anaconda3/lib/python3.11/site-packages (from kubernetes>=28.1.0->chromadb) (2.26.1)\n",
      "Requirement already satisfied: websocket-client!=0.40.0,!=0.41.*,!=0.42.*,>=0.32.0 in /Users/abhi/anaconda3/lib/python3.11/site-packages (from kubernetes>=28.1.0->chromadb) (0.58.0)\n",
      "Requirement already satisfied: requests-oauthlib in /Users/abhi/anaconda3/lib/python3.11/site-packages (from kubernetes>=28.1.0->chromadb) (1.3.1)\n",
      "Requirement already satisfied: oauthlib>=3.2.2 in /Users/abhi/anaconda3/lib/python3.11/site-packages (from kubernetes>=28.1.0->chromadb) (3.2.2)\n",
      "Requirement already satisfied: urllib3>=1.24.2 in /Users/abhi/anaconda3/lib/python3.11/site-packages (from kubernetes>=28.1.0->chromadb) (1.26.16)\n",
      "Requirement already satisfied: coloredlogs in /Users/abhi/anaconda3/lib/python3.11/site-packages (from onnxruntime>=1.14.1->chromadb) (15.0.1)\n",
      "Requirement already satisfied: flatbuffers in /Users/abhi/anaconda3/lib/python3.11/site-packages (from onnxruntime>=1.14.1->chromadb) (23.5.26)\n",
      "Requirement already satisfied: protobuf in /Users/abhi/anaconda3/lib/python3.11/site-packages (from onnxruntime>=1.14.1->chromadb) (4.25.1)\n",
      "Requirement already satisfied: sympy in /Users/abhi/anaconda3/lib/python3.11/site-packages (from onnxruntime>=1.14.1->chromadb) (1.11.1)\n",
      "Requirement already satisfied: deprecated>=1.2.6 in /Users/abhi/anaconda3/lib/python3.11/site-packages (from opentelemetry-api>=1.2.0->chromadb) (1.2.14)\n",
      "Requirement already satisfied: importlib-metadata<7.0,>=6.0 in /Users/abhi/anaconda3/lib/python3.11/site-packages (from opentelemetry-api>=1.2.0->chromadb) (6.0.0)\n",
      "Requirement already satisfied: backoff<3.0.0,>=1.10.0 in /Users/abhi/anaconda3/lib/python3.11/site-packages (from opentelemetry-exporter-otlp-proto-grpc>=1.2.0->chromadb) (2.2.1)\n",
      "Requirement already satisfied: googleapis-common-protos~=1.52 in /Users/abhi/anaconda3/lib/python3.11/site-packages (from opentelemetry-exporter-otlp-proto-grpc>=1.2.0->chromadb) (1.62.0)\n",
      "Requirement already satisfied: opentelemetry-exporter-otlp-proto-common==1.22.0 in /Users/abhi/anaconda3/lib/python3.11/site-packages (from opentelemetry-exporter-otlp-proto-grpc>=1.2.0->chromadb) (1.22.0)\n",
      "Requirement already satisfied: opentelemetry-proto==1.22.0 in /Users/abhi/anaconda3/lib/python3.11/site-packages (from opentelemetry-exporter-otlp-proto-grpc>=1.2.0->chromadb) (1.22.0)\n",
      "Requirement already satisfied: opentelemetry-instrumentation-asgi==0.43b0 in /Users/abhi/anaconda3/lib/python3.11/site-packages (from opentelemetry-instrumentation-fastapi>=0.41b0->chromadb) (0.43b0)\n",
      "Requirement already satisfied: opentelemetry-instrumentation==0.43b0 in /Users/abhi/anaconda3/lib/python3.11/site-packages (from opentelemetry-instrumentation-fastapi>=0.41b0->chromadb) (0.43b0)\n",
      "Requirement already satisfied: opentelemetry-semantic-conventions==0.43b0 in /Users/abhi/anaconda3/lib/python3.11/site-packages (from opentelemetry-instrumentation-fastapi>=0.41b0->chromadb) (0.43b0)\n",
      "Requirement already satisfied: opentelemetry-util-http==0.43b0 in /Users/abhi/anaconda3/lib/python3.11/site-packages (from opentelemetry-instrumentation-fastapi>=0.41b0->chromadb) (0.43b0)\n",
      "Requirement already satisfied: setuptools>=16.0 in /Users/abhi/anaconda3/lib/python3.11/site-packages (from opentelemetry-instrumentation==0.43b0->opentelemetry-instrumentation-fastapi>=0.41b0->chromadb) (68.0.0)\n",
      "Requirement already satisfied: wrapt<2.0.0,>=1.0.0 in /Users/abhi/anaconda3/lib/python3.11/site-packages (from opentelemetry-instrumentation==0.43b0->opentelemetry-instrumentation-fastapi>=0.41b0->chromadb) (1.14.1)\n"
     ]
    },
    {
     "name": "stdout",
     "output_type": "stream",
     "text": [
      "Requirement already satisfied: asgiref~=3.0 in /Users/abhi/anaconda3/lib/python3.11/site-packages (from opentelemetry-instrumentation-asgi==0.43b0->opentelemetry-instrumentation-fastapi>=0.41b0->chromadb) (3.7.2)\n",
      "Requirement already satisfied: monotonic>=1.5 in /Users/abhi/anaconda3/lib/python3.11/site-packages (from posthog>=2.4.0->chromadb) (1.6)\n",
      "Requirement already satisfied: charset-normalizer<4,>=2 in /Users/abhi/anaconda3/lib/python3.11/site-packages (from requests>=2.28->chromadb) (2.0.4)\n",
      "Requirement already satisfied: idna<4,>=2.5 in /Users/abhi/anaconda3/lib/python3.11/site-packages (from requests>=2.28->chromadb) (3.4)\n",
      "Requirement already satisfied: click<9.0.0,>=7.1.1 in /Users/abhi/anaconda3/lib/python3.11/site-packages (from typer>=0.9.0->chromadb) (8.0.4)\n",
      "Requirement already satisfied: h11>=0.8 in /Users/abhi/anaconda3/lib/python3.11/site-packages (from uvicorn>=0.18.3->uvicorn[standard]>=0.18.3->chromadb) (0.14.0)\n",
      "Requirement already satisfied: httptools>=0.5.0 in /Users/abhi/anaconda3/lib/python3.11/site-packages (from uvicorn[standard]>=0.18.3->chromadb) (0.6.1)\n",
      "Requirement already satisfied: python-dotenv>=0.13 in /Users/abhi/anaconda3/lib/python3.11/site-packages (from uvicorn[standard]>=0.18.3->chromadb) (0.21.0)\n",
      "Requirement already satisfied: uvloop!=0.15.0,!=0.15.1,>=0.14.0 in /Users/abhi/anaconda3/lib/python3.11/site-packages (from uvicorn[standard]>=0.18.3->chromadb) (0.19.0)\n",
      "Requirement already satisfied: watchfiles>=0.13 in /Users/abhi/anaconda3/lib/python3.11/site-packages (from uvicorn[standard]>=0.18.3->chromadb) (0.21.0)\n",
      "Requirement already satisfied: websockets>=10.4 in /Users/abhi/anaconda3/lib/python3.11/site-packages (from uvicorn[standard]>=0.18.3->chromadb) (12.0)\n",
      "Requirement already satisfied: cachetools<6.0,>=2.0.0 in /Users/abhi/anaconda3/lib/python3.11/site-packages (from google-auth>=1.0.1->kubernetes>=28.1.0->chromadb) (5.3.2)\n",
      "Requirement already satisfied: pyasn1-modules>=0.2.1 in /Users/abhi/anaconda3/lib/python3.11/site-packages (from google-auth>=1.0.1->kubernetes>=28.1.0->chromadb) (0.2.8)\n",
      "Requirement already satisfied: rsa<5,>=3.1.4 in /Users/abhi/anaconda3/lib/python3.11/site-packages (from google-auth>=1.0.1->kubernetes>=28.1.0->chromadb) (4.9)\n",
      "Requirement already satisfied: zipp>=0.5 in /Users/abhi/anaconda3/lib/python3.11/site-packages (from importlib-metadata<7.0,>=6.0->opentelemetry-api>=1.2.0->chromadb) (3.11.0)\n",
      "Requirement already satisfied: anyio<5,>=3.4.0 in /Users/abhi/anaconda3/lib/python3.11/site-packages (from starlette<0.33.0,>=0.29.0->fastapi>=0.95.2->chromadb) (3.5.0)\n",
      "Requirement already satisfied: humanfriendly>=9.1 in /Users/abhi/anaconda3/lib/python3.11/site-packages (from coloredlogs->onnxruntime>=1.14.1->chromadb) (10.0)\n",
      "Requirement already satisfied: mpmath>=0.19 in /Users/abhi/anaconda3/lib/python3.11/site-packages (from sympy->onnxruntime>=1.14.1->chromadb) (1.3.0)\n",
      "Requirement already satisfied: sniffio>=1.1 in /Users/abhi/anaconda3/lib/python3.11/site-packages (from anyio<5,>=3.4.0->starlette<0.33.0,>=0.29.0->fastapi>=0.95.2->chromadb) (1.2.0)\n",
      "Requirement already satisfied: pyasn1<0.5.0,>=0.4.6 in /Users/abhi/anaconda3/lib/python3.11/site-packages (from pyasn1-modules>=0.2.1->google-auth>=1.0.1->kubernetes>=28.1.0->chromadb) (0.4.8)\n",
      "Note: you may need to restart the kernel to use updated packages.\n"
     ]
    }
   ],
   "source": [
    "pip install chromadb"
   ]
  },
  {
   "cell_type": "code",
   "execution_count": null,
   "id": "13b23c5d",
   "metadata": {},
   "outputs": [],
   "source": [
    "#pip uninstall typing_extensions"
   ]
  },
  {
   "cell_type": "code",
   "execution_count": 40,
   "id": "03c92fcc",
   "metadata": {},
   "outputs": [
    {
     "name": "stdout",
     "output_type": "stream",
     "text": [
      "huggingface/tokenizers: The current process just got forked, after parallelism has already been used. Disabling parallelism to avoid deadlocks...\n",
      "To disable this warning, you can either:\n",
      "\t- Avoid using `tokenizers` before the fork if possible\n",
      "\t- Explicitly set the environment variable TOKENIZERS_PARALLELISM=(true | false)\n",
      "Requirement already satisfied: typing_extensions in /Users/abhi/anaconda3/lib/python3.11/site-packages (4.9.0)\n",
      "Note: you may need to restart the kernel to use updated packages.\n"
     ]
    }
   ],
   "source": [
    "pip install typing_extensions"
   ]
  },
  {
   "cell_type": "code",
   "execution_count": 41,
   "id": "aea9bef7",
   "metadata": {},
   "outputs": [
    {
     "name": "stdout",
     "output_type": "stream",
     "text": [
      "huggingface/tokenizers: The current process just got forked, after parallelism has already been used. Disabling parallelism to avoid deadlocks...\n",
      "To disable this warning, you can either:\n",
      "\t- Avoid using `tokenizers` before the fork if possible\n",
      "\t- Explicitly set the environment variable TOKENIZERS_PARALLELISM=(true | false)\n",
      "Requirement already satisfied: typing_extensions in /Users/abhi/anaconda3/lib/python3.11/site-packages (4.9.0)\n",
      "Note: you may need to restart the kernel to use updated packages.\n"
     ]
    }
   ],
   "source": [
    "pip install --upgrade typing_extensions"
   ]
  },
  {
   "cell_type": "code",
   "execution_count": 15,
   "id": "c2a13d14-4484-46f0-8e67-277337f9d138",
   "metadata": {
    "height": 113
   },
   "outputs": [],
   "source": [
    "import chromadb\n",
    "from chromadb.utils.embedding_functions import SentenceTransformerEmbeddingFunction\n",
    "\n",
    "embedding_function = SentenceTransformerEmbeddingFunction()\n"
   ]
  },
  {
   "cell_type": "code",
   "execution_count": 16,
   "id": "22f0f660",
   "metadata": {},
   "outputs": [],
   "source": [
    "#print(embedding_function([token_split_texts[1]]))"
   ]
  },
  {
   "cell_type": "code",
   "execution_count": 19,
   "id": "8ba6c8c5-9ce4-44d0-9223-6fdd77871f87",
   "metadata": {
    "height": 147
   },
   "outputs": [
    {
     "data": {
      "text/plain": [
       "3"
      ]
     },
     "execution_count": 19,
     "metadata": {},
     "output_type": "execute_result"
    }
   ],
   "source": [
    "chroma_client = chromadb.Client()\n",
    "chroma_collection = chroma_client.create_collection(\"guidelines\", embedding_function=embedding_function)\n",
    "\n",
    "ids = [str(i) for i in range(len(token_split_texts))]\n",
    "\n",
    "chroma_collection.add(ids=ids, documents=token_split_texts)\n",
    "chroma_collection.count()"
   ]
  },
  {
   "cell_type": "code",
   "execution_count": 20,
   "id": "cd41557e",
   "metadata": {},
   "outputs": [
    {
     "data": {
      "text/plain": [
       "Collection(name=guidelines)"
      ]
     },
     "execution_count": 20,
     "metadata": {},
     "output_type": "execute_result"
    }
   ],
   "source": [
    "chroma_collection"
   ]
  },
  {
   "cell_type": "markdown",
   "id": "183b2e58",
   "metadata": {},
   "source": [
    "### Collecting RAG chunks (documents that are pertinent to our query). "
   ]
  },
  {
   "cell_type": "code",
   "execution_count": 24,
   "id": "bfdb54db-a442-423c-b006-c33a257cd7d7",
   "metadata": {
    "height": 164
   },
   "outputs": [
    {
     "name": "stdout",
     "output_type": "stream",
     "text": [
      "for educational purposes only [ 45378 ] colonoscopy, flexible ; diagnostic • colorectal cancer screening, as indicated by 1 or more of the following : o patient has average - risk or higher, as indicated by all of the following § age 45 years or older § no colonoscopy in past 10 years o high risk family history, as indicated by 1 or more of the following : § colorectal cancer diagnosed in one or more first - degree relatives of any age and\n",
      "\n",
      "\n",
      "all of the following : • age 40 years or older • symptomatic ( eg, abdominal pain, iron deficiency anemia, rectal bleeding ) § family member with colonic adenomatous polyposis of unknown etiology o juvenile polyposis syndrome diagnosis indicated by 1 or more of the following : § age 12 years or older and symptomatic ( eg, abdominal pain, iron deficiency anemia, rectal bleeding, telangiectasia ) § age\n",
      "\n",
      "\n",
      "younger than 12 years and symptomatic ( eg, abdominal pain, iron deficiency anemia, rectal bleeding, telangiectasia )\n",
      "\n",
      "\n"
     ]
    }
   ],
   "source": [
    "query = \"You are an expert medical assistant. Follow the instructions listed here along with the guidelines document to answer if the requested procedure(s) for the patient should be approved. If not provide details of the additional information that may help in making decision.1.\tPlease use only the information provided to answer. 2.\tYour goal is to approve the requested procedure only when all the required criterias are met.3.\tIngest patient medical record PDF (medical-record-x.pdf) where X is likely a number. 4.\tCreate a timeline of patient’s medical history on complaints, diagnostics, diagnosis, procedures, treatments, medications etc.5.\tExtract all the CPT code(s) from this document which is usually present after the text ‘Requested Procedure’ to identify which procedure(s) have been recommended by the doctor.6.\tDisplay the name of the patient, patient’s date of birth or DOB, calculate the age from the date of birth or DOB and display it . Display MRN if provided. 7.\tIdentify if any conservative treatment has already been attempted from the patient medical record PDFs whether in medical procedures, clinical procedures or notes.8.\tIf a prior conservative treatment has already been attempted and if the treatment was successful or have shown signs of improvements, then present evidence that conservative treatment improved the patient’s condition and disapprove the need for the Requested Procedure stating the reason.9.\tIf the conservative treatment was not found or has failed then mention explicitly that ‘conservative treatment was not found or has failed’, and then look for the criterias present in the guidelines to identify if the Requested Procedure should be allowed or not. Please state which condition(s) in the guidelines were used to arrive at the answer.10.\tAt any point if you don’t know the answer, just say ‘I cannot arrive at the conclusion. Please provide additional information’. Do not hallucinate or provide incorrect or incomplete information. Please request specific information that could be helpful in making a decision.11.\tWalk me through the process with chain-of-thoughts on how you arrived at the conclusion. 12.\tAt the end, after two blank line, summarise the final conclusion with the title ‘Conclusion:’ in less than 40 words if the requested procedure should be approved or not. Provide the reason why it should be approved or not approved. In case of indecision, specify what further information would be required to decide.\"\n",
    "\n",
    "results = chroma_collection.query(query_texts=[query], n_results=len(token_split_texts))\n",
    "retrieved_documents = results['documents'][0]\n",
    "\n",
    "for document in retrieved_documents:\n",
    "    print((document))\n",
    "    print('\\n')"
   ]
  },
  {
   "cell_type": "code",
   "execution_count": null,
   "id": "bf8c5fa9",
   "metadata": {},
   "outputs": [],
   "source": []
  },
  {
   "cell_type": "code",
   "execution_count": 25,
   "id": "377a84aa-1d93-4e97-9b2d-d59c46355338",
   "metadata": {
    "height": 166
   },
   "outputs": [],
   "source": [
    "import os\n",
    "import openai\n",
    "from openai import OpenAI\n",
    "\n",
    "api_key = os.environ['openai_api_key'] # copy paste your api key here\n",
    "\n",
    "openai_client = OpenAI(api_key=api_key)"
   ]
  },
  {
   "cell_type": "code",
   "execution_count": 30,
   "id": "595ece8d",
   "metadata": {},
   "outputs": [
    {
     "data": {
      "text/plain": [
       "'for educational purposes only [ 45378 ] colonoscopy, flexible ; diagnostic • colorectal cancer screening, as indicated by 1 or more of the following : o patient has average - risk or higher, as indicated by all of the following § age 45 years or older § no colonoscopy in past 10 years o high risk family history, as indicated by 1 or more of the following : § colorectal cancer diagnosed in one or more first - degree relatives of any age andCo:Helm  \\nMEDICAL RECORD Patient Name: James Freeman DOB: 06/16/1982 MRN: 456789123 Sex: Male  PRESENTING COMPLAINT Symptoms: Occasional rectal bleeding and abdominal discomfort for the past 6 months. Duration: 6 months.  PATIENT INFORMATION Name: James Freeman DOB: 06/16/1982 Gender: Male Address: 4521 Maple Avenue, Dallas, Texas 75219 Contact Number: (214) 555-0123 Emergency Contact: Not provided  MEDICAL HISTORY • Family History: Father had colorectal cancer at age 68. • Personal Medical History: Hypertension, managed with medication. • Medications: Lisinopril 10mg daily. • Allergies: No known drug allergies.  ALLERGIES • Allergies not reviewed (last reviewed 11/28/2022) • NKDAall of the following : • age 40 years or older • symptomatic ( eg, abdominal pain, iron deficiency anemia, rectal bleeding ) § family member with colonic adenomatous polyposis of unknown etiology o juvenile polyposis syndrome diagnosis indicated by 1 or more of the following : § age 12 years or older and symptomatic ( eg, abdominal pain, iron deficiency anemia, rectal bleeding, telangiectasia ) § ageCo:Helm  \\nMEDICAL RECORD Patient Name: James Freeman DOB: 06/16/1982 MRN: 456789123 Sex: Male  PRESENTING COMPLAINT Symptoms: Occasional rectal bleeding and abdominal discomfort for the past 6 months. Duration: 6 months.  PATIENT INFORMATION Name: James Freeman DOB: 06/16/1982 Gender: Male Address: 4521 Maple Avenue, Dallas, Texas 75219 Contact Number: (214) 555-0123 Emergency Contact: Not provided  MEDICAL HISTORY • Family History: Father had colorectal cancer at age 68. • Personal Medical History: Hypertension, managed with medication. • Medications: Lisinopril 10mg daily. • Allergies: No known drug allergies.  ALLERGIES • Allergies not reviewed (last reviewed 11/28/2022) • NKDAyounger than 12 years and symptomatic ( eg, abdominal pain, iron deficiency anemia, rectal bleeding, telangiectasia )'"
      ]
     },
     "execution_count": 30,
     "metadata": {},
     "output_type": "execute_result"
    }
   ],
   "source": [
    "information=patient_text \n",
    "information = information.join(retrieved_documents)\n",
    "information"
   ]
  },
  {
   "cell_type": "code",
   "execution_count": 31,
   "id": "ba0ed8ca-6640-4c09-9cb3-9de5e7cf46dc",
   "metadata": {
    "height": 334
   },
   "outputs": [],
   "source": [
    "def rag(query, retrieved_documents, model=\"gpt-4-1106-preview\"): #gpt-3.5-turbo\n",
    "    information=patient_text \n",
    "    information = information.join(retrieved_documents)\n",
    "\n",
    "    messages = [\n",
    "        {\n",
    "            \"role\": \"system\",\n",
    "            \"content\": \"You are a helpful medical expert. Use the information provided to answer.\"\n",
    "        },\n",
    "        {\"role\": \"user\", \"content\": f\"Question: {query}. \\n Information: {information}\"}\n",
    "    ]\n",
    "    \n",
    "    response = openai_client.chat.completions.create(\n",
    "        model=model,\n",
    "        messages=messages,\n",
    "    )\n",
    "    content = response.choices[0].message.content\n",
    "    return content"
   ]
  },
  {
   "cell_type": "code",
   "execution_count": 32,
   "id": "28bac3a2-0d29-48dc-9b48-2d9313239a25",
   "metadata": {
    "height": 79
   },
   "outputs": [
    {
     "name": "stdout",
     "output_type": "stream",
     "text": [
      "huggingface/tokenizers: The current process just got forked, after parallelism has already been used. Disabling parallelism to avoid deadlocks...\n",
      "To disable this warning, you can either:\n",
      "\t- Avoid using `tokenizers` before the fork if possible\n",
      "\t- Explicitly set the environment variable TOKENIZERS_PARALLELISM=(true | false)\n",
      "1. Ingest patient medical record PDF: Ingested.\n",
      "\n",
      "2. Create a timeline of patient's medical history on complaints, diagnostics, diagnosis, procedures, treatments, medications, etc.:\n",
      "   - Duration of symptoms (occasional rectal bleeding and abdominal discomfort): 6 months.\n",
      "   - Family History: Father had colorectal cancer at age 68.\n",
      "   - Personal Medical History: Hypertension.\n",
      "   - Medications: Lisinopril 10mg daily.\n",
      "\n",
      "3. Extract all the CPT code(s): 45378 (colonoscopy, flexible; diagnostic).\n",
      "\n",
      "4. Display the name, DOB, age, and MRN:\n",
      "   - Name: James Freeman\n",
      "   - DOB: 06/16/1982\n",
      "   - Age: As of the knowledge cutoff in 2023, James would be 40 years old.\n",
      "   - MRN: 456789123\n",
      "\n",
      "5. Identify if any conservative treatment has already been attempted: The document does not provide information about conservative treatments being attempted. Further details are required to establish if there was any previous conservative treatment for the symptoms or any related condition.\n",
      "\n",
      "6. Evaluate conservative treatment success: Since the document does not mention any conservative treatment, it cannot be determined if such treatments were successful or showed signs of improvement.\n",
      "\n",
      "7. Decision on Requested Procedure with condition(s) in the guidelines used to arrive at the answer: According to the information provided and the guidelines document, the requested procedure – colonoscopy, flexible; diagnostic with CPT code 45378 – is indicated for colorectal cancer screening for patients who are 45 years or older and have not undergone a colonoscopy in the past 10 years or have a high-risk family history. James Freeman is 40 years old with a family history of colorectal cancer (father had it at age 68) and is currently symptomatic with occasional rectal bleeding and abdominal discomfort. These criteria suggest that the Requested Procedure should be allowed.\n",
      "\n",
      "8. Walkthrough:\n",
      "   - James meets the high-risk family history criteria due to his father's history of colorectal cancer.\n",
      "   - He is symptomatic with rectal bleeding and abdominal discomfort.\n",
      "   - Although he is not 45 years old, the high-risk factor and symptoms justify the need for diagnostic colonoscopy.\n",
      "\n",
      "Conclusion:\n",
      "The Requested Procedure for a diagnostic colonoscopy should be approved for James Freeman due to his symptoms (occasional rectal bleeding and abdominal discomfort), high-risk family history, and current age, in adherence to the guidelines that determine eligibility for colorectal cancer screening.\n"
     ]
    }
   ],
   "source": [
    "output = rag(query=query, retrieved_documents=retrieved_documents)\n",
    "\n",
    "print((output))"
   ]
  },
  {
   "cell_type": "code",
   "execution_count": null,
   "id": "5fcd85cc-8898-41ed-a0aa-bd8a33fc565a",
   "metadata": {
    "height": 30
   },
   "outputs": [],
   "source": []
  },
  {
   "cell_type": "code",
   "execution_count": null,
   "id": "c1d7ee44-7b29-483f-a3f2-cc9d8e18880e",
   "metadata": {
    "height": 30
   },
   "outputs": [],
   "source": []
  },
  {
   "cell_type": "code",
   "execution_count": null,
   "id": "8e450dd8-9719-42c6-8c3c-33cac910e0a5",
   "metadata": {
    "height": 30
   },
   "outputs": [],
   "source": []
  }
 ],
 "metadata": {
  "kernelspec": {
   "display_name": "Python 3 (ipykernel)",
   "language": "python",
   "name": "python3"
  },
  "language_info": {
   "codemirror_mode": {
    "name": "ipython",
    "version": 3
   },
   "file_extension": ".py",
   "mimetype": "text/x-python",
   "name": "python",
   "nbconvert_exporter": "python",
   "pygments_lexer": "ipython3",
   "version": "3.11.5"
  }
 },
 "nbformat": 4,
 "nbformat_minor": 5
}
